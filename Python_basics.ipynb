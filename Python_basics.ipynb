{
  "nbformat": 4,
  "nbformat_minor": 0,
  "metadata": {
    "colab": {
      "name": "Python basics.ipynb",
      "provenance": []
    },
    "kernelspec": {
      "name": "python3",
      "display_name": "Python 3"
    },
    "language_info": {
      "name": "python"
    }
  },
  "cells": [
    {
      "cell_type": "code",
      "execution_count": 8,
      "metadata": {
        "colab": {
          "base_uri": "https://localhost:8080/"
        },
        "id": "4GDelxAZefoW",
        "outputId": "3de89a52-846a-45e3-8c6b-b1242636e753"
      },
      "outputs": [
        {
          "output_type": "stream",
          "name": "stdout",
          "text": [
            "Enter your salary234000\n",
            "you do not have to pay the tax\n"
          ]
        }
      ],
      "source": [
        "x=int(input(\"Enter your salary\"))\n",
        "if x>250000 :\n",
        "  print(\"you have to pay tax \")\n",
        "if x<250000 :\n",
        "  print(\"you do not have to pay the tax\")"
      ]
    },
    {
      "cell_type": "code",
      "source": [
        ""
      ],
      "metadata": {
        "id": "fT0okQc8fJXV"
      },
      "execution_count": 7,
      "outputs": []
    }
  ]
}