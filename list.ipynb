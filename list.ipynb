{
  "nbformat": 4,
  "nbformat_minor": 0,
  "metadata": {
    "colab": {
      "name": "list.ipynb",
      "provenance": []
    },
    "kernelspec": {
      "name": "python3",
      "display_name": "Python 3"
    },
    "language_info": {
      "name": "python"
    }
  },
  "cells": [
    {
      "cell_type": "code",
      "execution_count": 1,
      "metadata": {
        "colab": {
          "base_uri": "https://localhost:8080/"
        },
        "id": "XxsaiXvf-76L",
        "outputId": "228af94c-5b0f-44b4-b7b7-b03d0824e080"
      },
      "outputs": [
        {
          "output_type": "stream",
          "name": "stdout",
          "text": [
            "Joshua\n",
            "Joshua\n",
            "Joshua\n",
            "Joshua\n",
            "Joshua\n",
            "Joshua\n",
            "Joshua\n",
            "Joshua\n",
            "Joshua\n",
            "Joshua\n",
            "Joshua\n",
            "Joshua\n",
            "Joshua\n",
            "Joshua\n",
            "Joshua\n",
            "Joshua\n",
            "Joshua\n",
            "Joshua\n",
            "Joshua\n",
            "Joshua\n"
          ]
        }
      ],
      "source": [
        "x=0\n",
        "while x<20:\n",
        "  print('Joshua')\n",
        "  x=x+1"
      ]
    },
    {
      "cell_type": "code",
      "source": [
        "x=10\n",
        "while x<35:\n",
        "  print('sasi')\n",
        "  x=x+1"
      ],
      "metadata": {
        "colab": {
          "base_uri": "https://localhost:8080/"
        },
        "id": "aGxXtuTwBHcc",
        "outputId": "e6e22e2e-f2cd-414d-8b7a-2baf039d966a"
      },
      "execution_count": 2,
      "outputs": [
        {
          "output_type": "stream",
          "name": "stdout",
          "text": [
            "sasi\n",
            "sasi\n",
            "sasi\n",
            "sasi\n",
            "sasi\n",
            "sasi\n",
            "sasi\n",
            "sasi\n",
            "sasi\n",
            "sasi\n",
            "sasi\n",
            "sasi\n",
            "sasi\n",
            "sasi\n",
            "sasi\n",
            "sasi\n",
            "sasi\n",
            "sasi\n",
            "sasi\n",
            "sasi\n",
            "sasi\n",
            "sasi\n",
            "sasi\n",
            "sasi\n",
            "sasi\n"
          ]
        }
      ]
    },
    {
      "cell_type": "code",
      "source": [
        "x=0\n",
        "result=0\n",
        "while x<10:\n",
        "   result=result+x\n",
        "   print(result)\n",
        "   x=x+1"
      ],
      "metadata": {
        "colab": {
          "base_uri": "https://localhost:8080/"
        },
        "id": "b2smGIzkDeyl",
        "outputId": "467418ec-f4f1-4798-f535-dd2444fa25f6"
      },
      "execution_count": 3,
      "outputs": [
        {
          "output_type": "stream",
          "name": "stdout",
          "text": [
            "0\n",
            "1\n",
            "3\n",
            "6\n",
            "10\n",
            "15\n",
            "21\n",
            "28\n",
            "36\n",
            "45\n"
          ]
        }
      ]
    },
    {
      "cell_type": "code",
      "source": [
        ""
      ],
      "metadata": {
        "id": "pXZ_7b0jEQT0"
      },
      "execution_count": 3,
      "outputs": []
    },
    {
      "cell_type": "code",
      "source": [
        "x=[10,20,30]\n",
        "print (x)"
      ],
      "metadata": {
        "colab": {
          "base_uri": "https://localhost:8080/"
        },
        "id": "6fofnnsgLKI1",
        "outputId": "f83b674f-a2cb-4c57-9ab4-add7bf459a5f"
      },
      "execution_count": 4,
      "outputs": [
        {
          "output_type": "stream",
          "name": "stdout",
          "text": [
            "[10, 20, 30]\n"
          ]
        }
      ]
    },
    {
      "cell_type": "code",
      "source": [
        "  x[0]"
      ],
      "metadata": {
        "colab": {
          "base_uri": "https://localhost:8080/"
        },
        "id": "9l7T785TLeO-",
        "outputId": "d9db3b72-05e7-4e09-d497-9221575821ce"
      },
      "execution_count": 5,
      "outputs": [
        {
          "output_type": "execute_result",
          "data": {
            "text/plain": [
              "10"
            ]
          },
          "metadata": {},
          "execution_count": 5
        }
      ]
    },
    {
      "cell_type": "code",
      "source": [
        "x[1]"
      ],
      "metadata": {
        "colab": {
          "base_uri": "https://localhost:8080/"
        },
        "id": "x0n5UbRkNbDt",
        "outputId": "bfb10b35-bc81-4350-c625-665fffc62447"
      },
      "execution_count": 6,
      "outputs": [
        {
          "output_type": "execute_result",
          "data": {
            "text/plain": [
              "20"
            ]
          },
          "metadata": {},
          "execution_count": 6
        }
      ]
    },
    {
      "cell_type": "code",
      "source": [
        "x[2]"
      ],
      "metadata": {
        "colab": {
          "base_uri": "https://localhost:8080/"
        },
        "id": "djrWjpKINeI-",
        "outputId": "8d2df34f-3694-46fb-978b-c9a7b43a471d"
      },
      "execution_count": 7,
      "outputs": [
        {
          "output_type": "execute_result",
          "data": {
            "text/plain": [
              "30"
            ]
          },
          "metadata": {},
          "execution_count": 7
        }
      ]
    },
    {
      "cell_type": "code",
      "source": [
        ""
      ],
      "metadata": {
        "id": "E4nWce3SNhaP"
      },
      "execution_count": 7,
      "outputs": []
    }
  ]
}